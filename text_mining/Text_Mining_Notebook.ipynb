{
 "cells": [
  {
   "cell_type": "markdown",
   "metadata": {
    "colab_type": "text",
    "id": "i_VmX5ko52fP"
   },
   "source": [
    "# `Progetto Text Mining`"
   ]
  },
  {
   "cell_type": "markdown",
   "metadata": {},
   "source": [
    "**Autori:** Silvia Bordogna, Stefano Daraio <br>\n",
    "**Obiettivo:** applicare un modello di classificazione su dataset di recensioni Amazon"
   ]
  },
  {
   "cell_type": "code",
   "execution_count": 89,
   "metadata": {
    "colab": {
     "base_uri": "https://localhost:8080/",
     "height": 119
    },
    "colab_type": "code",
    "id": "cQQ2hnf1-2Jx",
    "outputId": "30e73ad1-2824-403a-86eb-4641019229f3"
   },
   "outputs": [
    {
     "name": "stderr",
     "output_type": "stream",
     "text": [
      "[nltk_data] Downloading package stopwords to\n",
      "[nltk_data]     C:\\Users\\silvia.bordogna\\AppData\\Roaming\\nltk_data...\n",
      "[nltk_data]   Package stopwords is already up-to-date!\n",
      "[nltk_data] Downloading package punkt to\n",
      "[nltk_data]     C:\\Users\\silvia.bordogna\\AppData\\Roaming\\nltk_data...\n",
      "[nltk_data]   Package punkt is already up-to-date!\n",
      "[nltk_data] Downloading package wordnet to\n",
      "[nltk_data]     C:\\Users\\silvia.bordogna\\AppData\\Roaming\\nltk_data...\n",
      "[nltk_data]   Package wordnet is already up-to-date!\n"
     ]
    }
   ],
   "source": [
    "import pandas as pd\n",
    "import numpy as np\n",
    "from matplotlib import pyplot as plt\n",
    "import itertools\n",
    "import gzip\n",
    "import joblib\n",
    "\n",
    "import nltk\n",
    "nltk.download('stopwords')\n",
    "nltk.download('punkt')\n",
    "nltk.download('wordnet')\n",
    "from nltk.corpus import stopwords\n",
    "from textblob import TextBlob\n",
    "from textblob import Word\n",
    "\n",
    "from sklearn.feature_extraction.text import TfidfVectorizer\n",
    "from sklearn.feature_extraction.text import CountVectorizer\n",
    "from sklearn.model_selection import train_test_split\n",
    "from sklearn.metrics import confusion_matrix, accuracy_score, classification_report\n",
    "from sklearn import preprocessing, metrics\n",
    "\n",
    "import xgboost as xgb"
   ]
  },
  {
   "cell_type": "markdown",
   "metadata": {
    "colab_type": "text",
    "id": "VVpiSYXG6axN"
   },
   "source": [
    "**`Import`**"
   ]
  },
  {
   "cell_type": "code",
   "execution_count": null,
   "metadata": {},
   "outputs": [],
   "source": [
    "path = 'C:/Users/silvia.bordogna/Documents/Uni/text_mining_and_search/Text Mining Project/'"
   ]
  },
  {
   "cell_type": "code",
   "execution_count": 64,
   "metadata": {},
   "outputs": [],
   "source": [
    "def parse(path):\n",
    "    g = gzip.open(path, 'rb')\n",
    "    for l in g:\n",
    "        yield eval(l)\n",
    "\n",
    "def getDF(path):\n",
    "    i = 0\n",
    "    df = {}\n",
    "    for d in parse(path):\n",
    "        df[i] = d\n",
    "        i += 1\n",
    "    return pd.DataFrame.from_dict(df, orient='index')"
   ]
  },
  {
   "cell_type": "code",
   "execution_count": 65,
   "metadata": {
    "colab": {},
    "colab_type": "code",
    "id": "htRVH1JWmPfj"
   },
   "outputs": [],
   "source": [
    "df_video = getDF(path + 'reviews_Amazon_Instant_Video_5.json.gz')\n",
    "df_auto = getDF(path + 'reviews_Automotive_5.json.gz')\n",
    "df_beauty = getDF(path + 'reviews_Beauty_5.json.gz')\n",
    "df_clothes = getDF(path + 'reviews_Clothing_Shoes_and_Jewelry_5.json.gz')\n",
    "df_music = getDF(path + 'reviews_Digital_Music_5.json.gz')\n",
    "df_instruments = getDF(path + 'reviews_Digital_Music_5.json.gz')\n",
    "df_office = getDF(path + 'reviews_Office_Products_5.json.gz')\n",
    "df_pet = getDF(path + 'reviews_Pet_Supplies_5.json.gz')\n",
    "df_home = getDF(path + 'reviews_Tools_and_Home_Improvement_5.json.gz')\n",
    "df_toys = getDF(path + 'reviews_Toys_and_Games_5.json.gz')"
   ]
  },
  {
   "cell_type": "markdown",
   "metadata": {},
   "source": [
    "Unione dati"
   ]
  },
  {
   "cell_type": "code",
   "execution_count": 69,
   "metadata": {},
   "outputs": [],
   "source": [
    "i = 0\n",
    "for dt in [df_video, df_auto, df_beauty, df_clothes, df_music, df_instruments, df_office, df_pet, df_home, df_toys]:\n",
    "    dt['y'] = i\n",
    "    i += 1\n",
    "df = pd.concat(tot_df)\n",
    "n_labels = i"
   ]
  },
  {
   "cell_type": "markdown",
   "metadata": {},
   "source": [
    "Numero totale recensioni"
   ]
  },
  {
   "cell_type": "code",
   "execution_count": 71,
   "metadata": {},
   "outputs": [
    {
     "data": {
      "text/plain": [
       "1177357"
      ]
     },
     "execution_count": 71,
     "metadata": {},
     "output_type": "execute_result"
    }
   ],
   "source": [
    "len(df)"
   ]
  },
  {
   "cell_type": "markdown",
   "metadata": {},
   "source": [
    "Selezione variabili di interesse (review e categoria)"
   ]
  },
  {
   "cell_type": "code",
   "execution_count": 76,
   "metadata": {},
   "outputs": [
    {
     "data": {
      "text/plain": [
       "Index(['reviewerID', 'asin', 'reviewerName', 'helpful', 'reviewText',\n",
       "       'overall', 'summary', 'unixReviewTime', 'reviewTime', 'y'],\n",
       "      dtype='object')"
      ]
     },
     "execution_count": 76,
     "metadata": {},
     "output_type": "execute_result"
    }
   ],
   "source": [
    "df.columns"
   ]
  },
  {
   "cell_type": "code",
   "execution_count": 74,
   "metadata": {},
   "outputs": [
    {
     "data": {
      "text/plain": [
       "0    I had big expectations because I love English ...\n",
       "1    I highly recommend this series. It is a must f...\n",
       "2    This one is a real snoozer. Don't believe anyt...\n",
       "3    Mysteries are interesting.  The tension betwee...\n",
       "4    This show always is excellent, as far as briti...\n",
       "Name: reviewText, dtype: object"
      ]
     },
     "execution_count": 74,
     "metadata": {},
     "output_type": "execute_result"
    }
   ],
   "source": [
    "data = df[['reviewText','y']]\n",
    "data['reviewText'].head()"
   ]
  },
  {
   "cell_type": "markdown",
   "metadata": {
    "colab_type": "text",
    "id": "HCrGwxwX7ENA"
   },
   "source": [
    "Frequenze per categoria"
   ]
  },
  {
   "cell_type": "code",
   "execution_count": 75,
   "metadata": {
    "colab": {
     "base_uri": "https://localhost:8080/",
     "height": 204
    },
    "colab_type": "code",
    "id": "WWVFq4Fbni_2",
    "outputId": "006a3ae9-66cd-4552-cfba-3fc417d3cf20"
   },
   "outputs": [
    {
     "data": {
      "text/html": [
       "<div>\n",
       "<style scoped>\n",
       "    .dataframe tbody tr th:only-of-type {\n",
       "        vertical-align: middle;\n",
       "    }\n",
       "\n",
       "    .dataframe tbody tr th {\n",
       "        vertical-align: top;\n",
       "    }\n",
       "\n",
       "    .dataframe thead th {\n",
       "        text-align: right;\n",
       "    }\n",
       "</style>\n",
       "<table border=\"1\" class=\"dataframe\">\n",
       "  <thead>\n",
       "    <tr style=\"text-align: right;\">\n",
       "      <th>col_0</th>\n",
       "      <th>count</th>\n",
       "    </tr>\n",
       "    <tr>\n",
       "      <th>y</th>\n",
       "      <th></th>\n",
       "    </tr>\n",
       "  </thead>\n",
       "  <tbody>\n",
       "    <tr>\n",
       "      <th>0</th>\n",
       "      <td>37126</td>\n",
       "    </tr>\n",
       "    <tr>\n",
       "      <th>1</th>\n",
       "      <td>20473</td>\n",
       "    </tr>\n",
       "    <tr>\n",
       "      <th>2</th>\n",
       "      <td>198502</td>\n",
       "    </tr>\n",
       "    <tr>\n",
       "      <th>3</th>\n",
       "      <td>278677</td>\n",
       "    </tr>\n",
       "    <tr>\n",
       "      <th>4</th>\n",
       "      <td>64706</td>\n",
       "    </tr>\n",
       "    <tr>\n",
       "      <th>5</th>\n",
       "      <td>64706</td>\n",
       "    </tr>\n",
       "    <tr>\n",
       "      <th>6</th>\n",
       "      <td>53258</td>\n",
       "    </tr>\n",
       "    <tr>\n",
       "      <th>7</th>\n",
       "      <td>157836</td>\n",
       "    </tr>\n",
       "    <tr>\n",
       "      <th>8</th>\n",
       "      <td>134476</td>\n",
       "    </tr>\n",
       "    <tr>\n",
       "      <th>9</th>\n",
       "      <td>167597</td>\n",
       "    </tr>\n",
       "  </tbody>\n",
       "</table>\n",
       "</div>"
      ],
      "text/plain": [
       "col_0   count\n",
       "y            \n",
       "0       37126\n",
       "1       20473\n",
       "2      198502\n",
       "3      278677\n",
       "4       64706\n",
       "5       64706\n",
       "6       53258\n",
       "7      157836\n",
       "8      134476\n",
       "9      167597"
      ]
     },
     "execution_count": 75,
     "metadata": {},
     "output_type": "execute_result"
    }
   ],
   "source": [
    "pd.crosstab(index=data[\"y\"], columns=\"count\")  "
   ]
  },
  {
   "cell_type": "markdown",
   "metadata": {
    "colab_type": "text",
    "id": "WVr5MRwVFhWC"
   },
   "source": [
    "**`Text preprocessing`**"
   ]
  },
  {
   "cell_type": "markdown",
   "metadata": {
    "colab_type": "text",
    "id": "WL2If127FkR5"
   },
   "source": [
    "Rimozione punteggiatura"
   ]
  },
  {
   "cell_type": "code",
   "execution_count": 77,
   "metadata": {
    "colab": {
     "base_uri": "https://localhost:8080/",
     "height": 221
    },
    "colab_type": "code",
    "id": "9ecsRsEzFVVY",
    "outputId": "3d8e0fc2-50cb-44de-aad0-be268117763b"
   },
   "outputs": [
    {
     "name": "stderr",
     "output_type": "stream",
     "text": [
      "c:\\users\\silvia.bordogna\\appdata\\local\\continuum\\anaconda2\\envs\\ilab\\lib\\site-packages\\ipykernel_launcher.py:1: SettingWithCopyWarning: \n",
      "A value is trying to be set on a copy of a slice from a DataFrame.\n",
      "Try using .loc[row_indexer,col_indexer] = value instead\n",
      "\n",
      "See the caveats in the documentation: http://pandas.pydata.org/pandas-docs/stable/indexing.html#indexing-view-versus-copy\n",
      "  \"\"\"Entry point for launching an IPython kernel.\n"
     ]
    },
    {
     "data": {
      "text/plain": [
       "0    I had big expectations because I love English ...\n",
       "1    I highly recommend this series It is a must fo...\n",
       "2    This one is a real snoozer Dont believe anythi...\n",
       "3    Mysteries are interesting  The tension between...\n",
       "4    This show always is excellent as far as britis...\n",
       "Name: reviewText, dtype: object"
      ]
     },
     "execution_count": 77,
     "metadata": {},
     "output_type": "execute_result"
    }
   ],
   "source": [
    "data['reviewText'] = data['reviewText'].str.replace('[^\\w\\s]','')\n",
    "data['reviewText'].head()"
   ]
  },
  {
   "cell_type": "markdown",
   "metadata": {},
   "source": [
    "Lower case"
   ]
  },
  {
   "cell_type": "code",
   "execution_count": 79,
   "metadata": {
    "colab": {
     "base_uri": "https://localhost:8080/",
     "height": 221
    },
    "colab_type": "code",
    "id": "62irINRpDwwT",
    "outputId": "217b40f0-8aec-43aa-926c-83583f96f2b4"
   },
   "outputs": [
    {
     "name": "stderr",
     "output_type": "stream",
     "text": [
      "c:\\users\\silvia.bordogna\\appdata\\local\\continuum\\anaconda2\\envs\\ilab\\lib\\site-packages\\ipykernel_launcher.py:1: SettingWithCopyWarning: \n",
      "A value is trying to be set on a copy of a slice from a DataFrame.\n",
      "Try using .loc[row_indexer,col_indexer] = value instead\n",
      "\n",
      "See the caveats in the documentation: http://pandas.pydata.org/pandas-docs/stable/indexing.html#indexing-view-versus-copy\n",
      "  \"\"\"Entry point for launching an IPython kernel.\n"
     ]
    },
    {
     "data": {
      "text/plain": [
       "0    i big expectations i love english tv particula...\n",
       "1    i highly recommend series it must anyone yearn...\n",
       "2    this one real snoozer dont believe anything re...\n",
       "3    mysteries interesting the tension robson tall ...\n",
       "4    this show always excellent far british crime m...\n",
       "Name: reviewText, dtype: object"
      ]
     },
     "execution_count": 79,
     "metadata": {},
     "output_type": "execute_result"
    }
   ],
   "source": [
    "data['reviewText'] = data['reviewText'].apply(lambda x: \" \".join(x.lower() for x in x.split()))\n",
    "data['reviewText'].head()"
   ]
  },
  {
   "cell_type": "markdown",
   "metadata": {
    "colab_type": "text",
    "id": "35QIUfKmFmX-"
   },
   "source": [
    "Rimozione stop words"
   ]
  },
  {
   "cell_type": "code",
   "execution_count": 78,
   "metadata": {
    "colab": {
     "base_uri": "https://localhost:8080/",
     "height": 221
    },
    "colab_type": "code",
    "id": "byCF6uZXFodN",
    "outputId": "866441e5-658a-45b6-906f-99f7559a52f1"
   },
   "outputs": [
    {
     "name": "stderr",
     "output_type": "stream",
     "text": [
      "c:\\users\\silvia.bordogna\\appdata\\local\\continuum\\anaconda2\\envs\\ilab\\lib\\site-packages\\ipykernel_launcher.py:2: SettingWithCopyWarning: \n",
      "A value is trying to be set on a copy of a slice from a DataFrame.\n",
      "Try using .loc[row_indexer,col_indexer] = value instead\n",
      "\n",
      "See the caveats in the documentation: http://pandas.pydata.org/pandas-docs/stable/indexing.html#indexing-view-versus-copy\n",
      "  \n"
     ]
    },
    {
     "data": {
      "text/plain": [
       "0    I big expectations I love English TV particula...\n",
       "1    I highly recommend series It must anyone yearn...\n",
       "2    This one real snoozer Dont believe anything re...\n",
       "3    Mysteries interesting The tension Robson tall ...\n",
       "4    This show always excellent far british crime m...\n",
       "Name: reviewText, dtype: object"
      ]
     },
     "execution_count": 78,
     "metadata": {},
     "output_type": "execute_result"
    }
   ],
   "source": [
    "stop = stopwords.words('english')\n",
    "data['reviewText'] = data['reviewText'].apply(lambda x: \" \".join(x for x in x.split() if x not in stop))\n",
    "data['reviewText'].head()"
   ]
  },
  {
   "cell_type": "markdown",
   "metadata": {
    "colab_type": "text",
    "id": "agyk_fkEKTc5"
   },
   "source": [
    "Lemmatization"
   ]
  },
  {
   "cell_type": "code",
   "execution_count": 20,
   "metadata": {
    "colab": {
     "base_uri": "https://localhost:8080/",
     "height": 221
    },
    "colab_type": "code",
    "id": "hMCEPae8KLG3",
    "outputId": "f71a324d-7194-44e2-f4f7-b5a8afb3f333"
   },
   "outputs": [
    {
     "name": "stderr",
     "output_type": "stream",
     "text": [
      "c:\\users\\silvia.bordogna\\appdata\\local\\continuum\\anaconda2\\envs\\ilab\\lib\\site-packages\\ipykernel_launcher.py:1: SettingWithCopyWarning: \n",
      "A value is trying to be set on a copy of a slice from a DataFrame.\n",
      "Try using .loc[row_indexer,col_indexer] = value instead\n",
      "\n",
      "See the caveats in the documentation: http://pandas.pydata.org/pandas-docs/stable/indexing.html#indexing-view-versus-copy\n",
      "  \"\"\"Entry point for launching an IPython kernel.\n"
     ]
    },
    {
     "data": {
      "text/plain": [
       "0    big expectation love english tv particular inv...\n",
       "1    highly recommend series must anyone yearning w...\n",
       "2    one real snoozer dont believe anything read he...\n",
       "3    mystery interesting tension robson tall blond ...\n",
       "4    show always excellent far british crime myster...\n",
       "Name: reviewText, dtype: object"
      ]
     },
     "execution_count": 20,
     "metadata": {},
     "output_type": "execute_result"
    }
   ],
   "source": [
    "data['reviewText'] = data['reviewText'].apply(lambda x: \" \".join([Word(word).lemmatize() for word in x.split()]))\n",
    "data['reviewText'].head()"
   ]
  },
  {
   "cell_type": "markdown",
   "metadata": {
    "colab_type": "text",
    "id": "XtGsfvHiCA4Y"
   },
   "source": [
    "Document Term Matrix"
   ]
  },
  {
   "cell_type": "code",
   "execution_count": 21,
   "metadata": {
    "colab": {},
    "colab_type": "code",
    "id": "lJ5leNcyKeMm"
   },
   "outputs": [],
   "source": [
    "tfidf = TfidfVectorizer(max_features=10000, analyzer='word',ngram_range=(1,1))\n",
    "train_vect = tfidf.fit_transform(my_data['reviewText'])"
   ]
  },
  {
   "cell_type": "markdown",
   "metadata": {
    "colab_type": "text",
    "id": "uK0LlxAQFHfZ"
   },
   "source": [
    "Si e' scelto di utilizzare TfidfVectorizerIl per assegnare un peso alle parole in base a tf-idf. Inoltre per motivi computazionali si e' scelto di tenere solo le prime 10000 feature in ordine di significativita'. Per lo stesso motivo si e' scelto di valutare solo 1-gram."
   ]
  },
  {
   "cell_type": "code",
   "execution_count": 23,
   "metadata": {
    "colab": {},
    "colab_type": "code",
    "id": "yfbWwB54IENV"
   },
   "outputs": [],
   "source": [
    "y = data.y"
   ]
  },
  {
   "cell_type": "markdown",
   "metadata": {
    "colab_type": "text",
    "id": "scnAOMVgHBY2"
   },
   "source": [
    "Salvataggio risultato pre processing"
   ]
  },
  {
   "cell_type": "code",
   "execution_count": 90,
   "metadata": {
    "colab": {
     "base_uri": "https://localhost:8080/",
     "height": 34
    },
    "colab_type": "code",
    "id": "GEkeaJ1inhFs",
    "outputId": "5c802547-ee84-41d5-d739-32d1638cc4ce"
   },
   "outputs": [
    {
     "data": {
      "text/plain": [
       "['feature.joblib']"
      ]
     },
     "execution_count": 90,
     "metadata": {},
     "output_type": "execute_result"
    }
   ],
   "source": [
    "joblib.dump([train_vect, y], 'feature.joblib')\n",
    "#feature = joblib.load('feature.joblib')\n",
    "#train_vect = feature[0]\n",
    "#y = feature[1]"
   ]
  },
  {
   "cell_type": "markdown",
   "metadata": {
    "colab_type": "text",
    "id": "1bBCCIGCFRtS"
   },
   "source": [
    "**`Classification con xgboost`**"
   ]
  },
  {
   "cell_type": "markdown",
   "metadata": {},
   "source": [
    "Train/Test"
   ]
  },
  {
   "cell_type": "code",
   "execution_count": 37,
   "metadata": {},
   "outputs": [],
   "source": [
    "x_train, x_test, y_train, y_test = train_test_split(train_vect, y, test_size=0.1, random_state=1)"
   ]
  },
  {
   "cell_type": "markdown",
   "metadata": {},
   "source": [
    "Si e' scelto di usare un modello xgboost"
   ]
  },
  {
   "cell_type": "markdown",
   "metadata": {},
   "source": [
    "Trasformazione dati nel formato richiesto dalla funzione"
   ]
  },
  {
   "cell_type": "code",
   "execution_count": 39,
   "metadata": {},
   "outputs": [
    {
     "name": "stderr",
     "output_type": "stream",
     "text": [
      "c:\\users\\silvia.bordogna\\appdata\\local\\continuum\\anaconda2\\envs\\ilab\\lib\\site-packages\\xgboost\\core.py:587: FutureWarning: Series.base is deprecated and will be removed in a future version\n",
      "  if getattr(data, 'base', None) is not None and \\\n"
     ]
    }
   ],
   "source": [
    "dtrain = xgb.DMatrix(x_train, label=y_train)\n",
    "dtest = xgb.DMatrix(x_test, label=y_test)"
   ]
  },
  {
   "cell_type": "code",
   "execution_count": 40,
   "metadata": {},
   "outputs": [
    {
     "name": "stdout",
     "output_type": "stream",
     "text": [
      "(1059621, 10000)\n",
      "(117736, 10000)\n",
      "(1059621,)\n",
      "(117736,)\n"
     ]
    }
   ],
   "source": [
    "print(x_train.shape)\n",
    "print(x_test.shape)\n",
    "print(y_train.shape)\n",
    "print(y_test.shape)"
   ]
  },
  {
   "cell_type": "markdown",
   "metadata": {},
   "source": [
    "Parametri algoritmo"
   ]
  },
  {
   "cell_type": "code",
   "execution_count": 83,
   "metadata": {},
   "outputs": [
    {
     "name": "stdout",
     "output_type": "stream",
     "text": [
      "{'max_depth': 4, 'min_child_weight': 5.0, 'eta': 0.3, 'silent': 1, 'objective': 'multi:softmax', 'eval_metric': 'mlogloss', 'num_class': 10, 'verbose_eval': 10}\n"
     ]
    }
   ],
   "source": [
    "param={}\n",
    "param['max_depth']= 4  # depth of tree -6\n",
    "param['min_child_weight']= 5.0\n",
    "param['eta'] = 0.3      # shrinkage parameter -0.5\n",
    "param['silent'] = 1     # not silent\n",
    "param['objective'] = 'multi:softmax' #multi:softprob for prob vector\n",
    "#param['nthread'] = 7 # Number of threads used\n",
    "param['eval_metric'] = 'mlogloss' # 'auc' \n",
    "param['num_class'] = n_labels\n",
    "param['verbose_eval'] = 10\n",
    "\n",
    "plst = param.items()\n",
    "print(param)\n",
    "evallist = [(dtrain, 'train'), (dtest, 'eval')]\n",
    "#evallist = [(dtrain, 'train')]"
   ]
  },
  {
   "cell_type": "markdown",
   "metadata": {},
   "source": [
    "Per ragioni computazionali si e' scelto di dare un limite alla profondita' del modello con un numero massimo di 5 figli."
   ]
  },
  {
   "cell_type": "code",
   "execution_count": 47,
   "metadata": {
    "scrolled": true
   },
   "outputs": [
    {
     "name": "stdout",
     "output_type": "stream",
     "text": [
      "[0]\ttrain-mlogloss:1.71977\teval-mlogloss:1.71818\n",
      "Multiple eval metrics have been passed: 'eval-mlogloss' will be used for early stopping.\n",
      "\n",
      "Will train until eval-mlogloss hasn't improved in 10 rounds.\n",
      "[1]\ttrain-mlogloss:1.4998\teval-mlogloss:1.49929\n",
      "[2]\ttrain-mlogloss:1.35247\teval-mlogloss:1.35197\n",
      "[3]\ttrain-mlogloss:1.2449\teval-mlogloss:1.24507\n",
      "[4]\ttrain-mlogloss:1.16046\teval-mlogloss:1.16045\n",
      "[5]\ttrain-mlogloss:1.09521\teval-mlogloss:1.09583\n",
      "[6]\ttrain-mlogloss:1.04119\teval-mlogloss:1.04187\n",
      "[7]\ttrain-mlogloss:0.996916\teval-mlogloss:0.997832\n",
      "[8]\ttrain-mlogloss:0.959283\teval-mlogloss:0.960297\n",
      "[9]\ttrain-mlogloss:0.926956\teval-mlogloss:0.928025\n",
      "[10]\ttrain-mlogloss:0.899357\teval-mlogloss:0.900343\n",
      "[11]\ttrain-mlogloss:0.874532\teval-mlogloss:0.876032\n",
      "[12]\ttrain-mlogloss:0.852853\teval-mlogloss:0.854599\n",
      "[13]\ttrain-mlogloss:0.83287\teval-mlogloss:0.834651\n",
      "[14]\ttrain-mlogloss:0.815535\teval-mlogloss:0.817334\n",
      "[15]\ttrain-mlogloss:0.799654\teval-mlogloss:0.801637\n",
      "[16]\ttrain-mlogloss:0.785286\teval-mlogloss:0.787236\n",
      "[17]\ttrain-mlogloss:0.772413\teval-mlogloss:0.774277\n",
      "[18]\ttrain-mlogloss:0.760082\teval-mlogloss:0.761827\n",
      "[19]\ttrain-mlogloss:0.748656\teval-mlogloss:0.750667\n",
      "[20]\ttrain-mlogloss:0.7381\teval-mlogloss:0.740092\n",
      "[21]\ttrain-mlogloss:0.728391\teval-mlogloss:0.730381\n",
      "[22]\ttrain-mlogloss:0.71923\teval-mlogloss:0.721289\n",
      "[23]\ttrain-mlogloss:0.710438\teval-mlogloss:0.712573\n",
      "[24]\ttrain-mlogloss:0.701912\teval-mlogloss:0.704327\n",
      "[25]\ttrain-mlogloss:0.694103\teval-mlogloss:0.696531\n",
      "[26]\ttrain-mlogloss:0.686675\teval-mlogloss:0.689226\n",
      "[27]\ttrain-mlogloss:0.679649\teval-mlogloss:0.682252\n",
      "[28]\ttrain-mlogloss:0.672961\teval-mlogloss:0.675619\n",
      "[29]\ttrain-mlogloss:0.666465\teval-mlogloss:0.669254\n",
      "[30]\ttrain-mlogloss:0.6604\teval-mlogloss:0.663209\n",
      "[31]\ttrain-mlogloss:0.654426\teval-mlogloss:0.657222\n",
      "[32]\ttrain-mlogloss:0.648671\teval-mlogloss:0.65177\n",
      "[33]\ttrain-mlogloss:0.643244\teval-mlogloss:0.646656\n",
      "[34]\ttrain-mlogloss:0.637785\teval-mlogloss:0.64123\n",
      "[35]\ttrain-mlogloss:0.632826\teval-mlogloss:0.636251\n",
      "[36]\ttrain-mlogloss:0.627613\teval-mlogloss:0.631269\n",
      "[37]\ttrain-mlogloss:0.622795\teval-mlogloss:0.626758\n",
      "[38]\ttrain-mlogloss:0.618345\teval-mlogloss:0.622341\n",
      "[39]\ttrain-mlogloss:0.613957\teval-mlogloss:0.617914\n",
      "[40]\ttrain-mlogloss:0.609752\teval-mlogloss:0.613816\n",
      "[41]\ttrain-mlogloss:0.605497\teval-mlogloss:0.609534\n",
      "[42]\ttrain-mlogloss:0.601438\teval-mlogloss:0.605599\n",
      "[43]\ttrain-mlogloss:0.597522\teval-mlogloss:0.601787\n",
      "[44]\ttrain-mlogloss:0.593764\teval-mlogloss:0.598229\n",
      "[45]\ttrain-mlogloss:0.590092\teval-mlogloss:0.594737\n",
      "[46]\ttrain-mlogloss:0.586595\teval-mlogloss:0.591381\n",
      "[47]\ttrain-mlogloss:0.583175\teval-mlogloss:0.588078\n",
      "[48]\ttrain-mlogloss:0.579686\teval-mlogloss:0.58481\n",
      "[49]\ttrain-mlogloss:0.576485\teval-mlogloss:0.581727\n",
      "[50]\ttrain-mlogloss:0.573336\teval-mlogloss:0.578608\n",
      "[51]\ttrain-mlogloss:0.570255\teval-mlogloss:0.575735\n",
      "[52]\ttrain-mlogloss:0.56723\teval-mlogloss:0.572921\n",
      "[53]\ttrain-mlogloss:0.564301\teval-mlogloss:0.57008\n",
      "[54]\ttrain-mlogloss:0.561477\teval-mlogloss:0.567222\n",
      "[55]\ttrain-mlogloss:0.558593\teval-mlogloss:0.564456\n",
      "[56]\ttrain-mlogloss:0.555775\teval-mlogloss:0.561848\n",
      "[57]\ttrain-mlogloss:0.553052\teval-mlogloss:0.559201\n",
      "[58]\ttrain-mlogloss:0.55046\teval-mlogloss:0.556567\n",
      "[59]\ttrain-mlogloss:0.547845\teval-mlogloss:0.553887\n",
      "[60]\ttrain-mlogloss:0.545212\teval-mlogloss:0.551441\n",
      "[61]\ttrain-mlogloss:0.542655\teval-mlogloss:0.549056\n",
      "[62]\ttrain-mlogloss:0.540298\teval-mlogloss:0.546721\n",
      "[63]\ttrain-mlogloss:0.537898\teval-mlogloss:0.544385\n",
      "[64]\ttrain-mlogloss:0.535544\teval-mlogloss:0.542091\n",
      "[65]\ttrain-mlogloss:0.533297\teval-mlogloss:0.53996\n",
      "[66]\ttrain-mlogloss:0.531052\teval-mlogloss:0.537818\n",
      "[67]\ttrain-mlogloss:0.528949\teval-mlogloss:0.535748\n",
      "[68]\ttrain-mlogloss:0.526837\teval-mlogloss:0.533783\n",
      "[69]\ttrain-mlogloss:0.524754\teval-mlogloss:0.531807\n",
      "[70]\ttrain-mlogloss:0.522631\teval-mlogloss:0.529885\n",
      "[71]\ttrain-mlogloss:0.520547\teval-mlogloss:0.52795\n",
      "[72]\ttrain-mlogloss:0.518492\teval-mlogloss:0.526014\n",
      "[73]\ttrain-mlogloss:0.516499\teval-mlogloss:0.524126\n",
      "[74]\ttrain-mlogloss:0.51454\teval-mlogloss:0.522273\n",
      "[75]\ttrain-mlogloss:0.512634\teval-mlogloss:0.52042\n",
      "[76]\ttrain-mlogloss:0.510806\teval-mlogloss:0.518689\n",
      "[77]\ttrain-mlogloss:0.508996\teval-mlogloss:0.51699\n",
      "[78]\ttrain-mlogloss:0.507161\teval-mlogloss:0.515212\n",
      "[79]\ttrain-mlogloss:0.505398\teval-mlogloss:0.513504\n",
      "[80]\ttrain-mlogloss:0.503719\teval-mlogloss:0.511875\n",
      "[81]\ttrain-mlogloss:0.501912\teval-mlogloss:0.510238\n",
      "[82]\ttrain-mlogloss:0.500177\teval-mlogloss:0.508559\n",
      "[83]\ttrain-mlogloss:0.498552\teval-mlogloss:0.50695\n",
      "[84]\ttrain-mlogloss:0.49695\teval-mlogloss:0.505475\n",
      "[85]\ttrain-mlogloss:0.495341\teval-mlogloss:0.503979\n",
      "[86]\ttrain-mlogloss:0.493776\teval-mlogloss:0.502547\n",
      "[87]\ttrain-mlogloss:0.492165\teval-mlogloss:0.50101\n",
      "[88]\ttrain-mlogloss:0.490627\teval-mlogloss:0.499566\n",
      "[89]\ttrain-mlogloss:0.489092\teval-mlogloss:0.49818\n",
      "[90]\ttrain-mlogloss:0.487679\teval-mlogloss:0.496841\n",
      "[91]\ttrain-mlogloss:0.48617\teval-mlogloss:0.495387\n",
      "[92]\ttrain-mlogloss:0.484732\teval-mlogloss:0.494118\n",
      "[93]\ttrain-mlogloss:0.483275\teval-mlogloss:0.492682\n",
      "[94]\ttrain-mlogloss:0.481906\teval-mlogloss:0.491353\n",
      "[95]\ttrain-mlogloss:0.48047\teval-mlogloss:0.489996\n",
      "[96]\ttrain-mlogloss:0.479044\teval-mlogloss:0.488674\n",
      "[97]\ttrain-mlogloss:0.477559\teval-mlogloss:0.487305\n",
      "[98]\ttrain-mlogloss:0.476247\teval-mlogloss:0.486074\n",
      "[99]\ttrain-mlogloss:0.474994\teval-mlogloss:0.484888\n",
      "[100]\ttrain-mlogloss:0.47369\teval-mlogloss:0.483684\n",
      "[101]\ttrain-mlogloss:0.47231\teval-mlogloss:0.482454\n",
      "[102]\ttrain-mlogloss:0.471033\teval-mlogloss:0.481265\n",
      "[103]\ttrain-mlogloss:0.469751\teval-mlogloss:0.480036\n",
      "[104]\ttrain-mlogloss:0.468474\teval-mlogloss:0.478873\n",
      "[105]\ttrain-mlogloss:0.467124\teval-mlogloss:0.477666\n",
      "[106]\ttrain-mlogloss:0.465928\teval-mlogloss:0.476573\n",
      "[107]\ttrain-mlogloss:0.464796\teval-mlogloss:0.475518\n",
      "[108]\ttrain-mlogloss:0.463622\teval-mlogloss:0.474411\n",
      "[109]\ttrain-mlogloss:0.462486\teval-mlogloss:0.473323\n",
      "[110]\ttrain-mlogloss:0.461383\teval-mlogloss:0.472319\n",
      "[111]\ttrain-mlogloss:0.460263\teval-mlogloss:0.471315\n",
      "[112]\ttrain-mlogloss:0.45914\teval-mlogloss:0.470275\n",
      "[113]\ttrain-mlogloss:0.458054\teval-mlogloss:0.469333\n",
      "[114]\ttrain-mlogloss:0.456948\teval-mlogloss:0.468295\n",
      "[115]\ttrain-mlogloss:0.455863\teval-mlogloss:0.467225\n",
      "[116]\ttrain-mlogloss:0.454721\teval-mlogloss:0.466179\n",
      "[117]\ttrain-mlogloss:0.453652\teval-mlogloss:0.465145\n",
      "[118]\ttrain-mlogloss:0.452571\teval-mlogloss:0.464203\n",
      "[119]\ttrain-mlogloss:0.451547\teval-mlogloss:0.463212\n",
      "[120]\ttrain-mlogloss:0.450509\teval-mlogloss:0.462229\n",
      "[121]\ttrain-mlogloss:0.449553\teval-mlogloss:0.461349\n",
      "[122]\ttrain-mlogloss:0.448541\teval-mlogloss:0.460452\n",
      "[123]\ttrain-mlogloss:0.447563\teval-mlogloss:0.459562\n",
      "[124]\ttrain-mlogloss:0.4466\teval-mlogloss:0.458656\n",
      "[125]\ttrain-mlogloss:0.445633\teval-mlogloss:0.457715\n",
      "[126]\ttrain-mlogloss:0.444632\teval-mlogloss:0.456822\n",
      "[127]\ttrain-mlogloss:0.443722\teval-mlogloss:0.455942\n",
      "[128]\ttrain-mlogloss:0.442759\teval-mlogloss:0.455011\n",
      "[129]\ttrain-mlogloss:0.441831\teval-mlogloss:0.454178\n",
      "[130]\ttrain-mlogloss:0.440953\teval-mlogloss:0.453399\n",
      "[131]\ttrain-mlogloss:0.44004\teval-mlogloss:0.452582\n",
      "[132]\ttrain-mlogloss:0.439089\teval-mlogloss:0.451788\n",
      "[133]\ttrain-mlogloss:0.438238\teval-mlogloss:0.451013\n",
      "[134]\ttrain-mlogloss:0.437337\teval-mlogloss:0.450176\n",
      "[135]\ttrain-mlogloss:0.436497\teval-mlogloss:0.449414\n",
      "[136]\ttrain-mlogloss:0.435636\teval-mlogloss:0.448649\n",
      "[137]\ttrain-mlogloss:0.434773\teval-mlogloss:0.447915\n",
      "[138]\ttrain-mlogloss:0.433953\teval-mlogloss:0.447139\n",
      "[139]\ttrain-mlogloss:0.433064\teval-mlogloss:0.446328\n",
      "[140]\ttrain-mlogloss:0.43218\teval-mlogloss:0.445507\n",
      "[141]\ttrain-mlogloss:0.431329\teval-mlogloss:0.44472\n",
      "[142]\ttrain-mlogloss:0.430442\teval-mlogloss:0.443996\n",
      "[143]\ttrain-mlogloss:0.429628\teval-mlogloss:0.443213\n",
      "[144]\ttrain-mlogloss:0.42882\teval-mlogloss:0.442509\n",
      "[145]\ttrain-mlogloss:0.428023\teval-mlogloss:0.441769\n",
      "[146]\ttrain-mlogloss:0.427213\teval-mlogloss:0.441037\n",
      "[147]\ttrain-mlogloss:0.42645\teval-mlogloss:0.440288\n",
      "[148]\ttrain-mlogloss:0.42564\teval-mlogloss:0.439507\n",
      "[149]\ttrain-mlogloss:0.424902\teval-mlogloss:0.438848\n",
      "Wall time: 2h 6min 56s\n"
     ]
    }
   ],
   "source": [
    "%%time\n",
    "#TRAINING\n",
    "bst100 = xgb.train(param,dtrain,\n",
    "    evals = evallist,\n",
    "    num_boost_round=150, #3000,\n",
    "    early_stopping_rounds=10\n",
    ")"
   ]
  },
  {
   "cell_type": "markdown",
   "metadata": {},
   "source": [
    "Salvataggio classifier"
   ]
  },
  {
   "cell_type": "code",
   "execution_count": 56,
   "metadata": {},
   "outputs": [],
   "source": [
    "import pickle\n",
    "classifier = bst100\n",
    "filename = 'classifier.sav'\n",
    "pickle.dump(classifier, open(filename, 'wb'))"
   ]
  },
  {
   "cell_type": "markdown",
   "metadata": {},
   "source": [
    "**`Test`**"
   ]
  },
  {
   "cell_type": "markdown",
   "metadata": {},
   "source": [
    "Creo funzione per stampare matrice di confusione"
   ]
  },
  {
   "cell_type": "code",
   "execution_count": 88,
   "metadata": {},
   "outputs": [],
   "source": [
    "def plot_confusion_matrix(cm, classes,\n",
    "                          normalize=False,\n",
    "                          title='Confusion matrix',\n",
    "                          cmap=plt.cm.Oranges):\n",
    "    \"\"\"\n",
    "    This function prints and plots the confusion matrix.\n",
    "    Normalization can be applied by setting `normalize=True`.\n",
    "    \"\"\"\n",
    "    if normalize:\n",
    "        cm = cm.astype('float') / cm.sum(axis=1)[:, np.newaxis]\n",
    "    #    print(\"Normalized confusion matrix\")\n",
    "    else:\n",
    "        print('Confusion matrix, without normalization')\n",
    "\n",
    "    #print(cm)\n",
    "\n",
    "    plt.imshow(cm, interpolation='nearest', cmap=cmap)\n",
    "    plt.title(title)\n",
    "    plt.colorbar()\n",
    "    tick_marks = np.arange(len(classes))\n",
    "    plt.xticks(tick_marks, classes, rotation=45)\n",
    "    plt.yticks(tick_marks, classes)\n",
    "\n",
    "    fmt = '.2f' if normalize else 'd'\n",
    "    thresh = cm.max() / 2.\n",
    "    for i, j in itertools.product(range(cm.shape[0]), range(cm.shape[1])):\n",
    "        plt.text(j,i, format(cm[i, j], fmt),\n",
    "                 horizontalalignment=\"center\",\n",
    "                 color=\"white\" if cm[i, j] > thresh else \"black\")\n",
    "\n",
    "    plt.tight_layout()\n",
    "    plt.ylabel('True label')\n",
    "    plt.xlabel('Predicted label')"
   ]
  },
  {
   "cell_type": "code",
   "execution_count": 53,
   "metadata": {},
   "outputs": [
    {
     "name": "stdout",
     "output_type": "stream",
     "text": [
      "[0, 1, 2, 3, 4, 5, 6, 7, 8, 9]\n",
      "Confusion matrix, without normalization\n"
     ]
    },
    {
     "data": {
      "image/png": "[encoded data removed]",
      "text/plain": [
       "<Figure size 720x720 with 2 Axes>"
      ]
     },
     "metadata": {
      "needs_background": "light"
     },
     "output_type": "display_data"
    },
    {
     "data": {
      "image/png": "[encoded data removed]",
      "text/plain": [
       "<Figure size 720x720 with 2 Axes>"
      ]
     },
     "metadata": {
      "needs_background": "light"
     },
     "output_type": "display_data"
    },
    {
     "name": "stdout",
     "output_type": "stream",
     "text": [
      "RF, Count Vectors:  0.8295763402867432\n",
      "Wall time: 1.46 s\n"
     ]
    }
   ],
   "source": [
    "%%time\n",
    "\n",
    "predictions = bst100.predict(dtest, ntree_limit=bst100.best_ntree_limit, output_margin=True) \n",
    "best_pred = np.asarray([np.argmax(line) for line in predictions])\n",
    "\n",
    "#confusion matrix: categories\n",
    "categories=set(y_test)\n",
    "categories=sorted(categories)\n",
    "print(categories)\n",
    "\n",
    "#categories = sorted(samplesize.index)\n",
    "\n",
    "\n",
    "# Compute confusion matrix\n",
    "cnf_matrix = confusion_matrix(y_test, best_pred)\n",
    "np.set_printoptions(precision=2)\n",
    "\n",
    "# Plot non-normalized confusion matrix\n",
    "plt.figure(figsize=(10,10))\n",
    "plot_confusion_matrix(cnf_matrix, classes=categories,\n",
    "                      title='Confusion matrix, without normalization')\n",
    "\n",
    "# Plot normalized confusion matrix\n",
    "plt.figure(figsize=(10,10))\n",
    "plot_confusion_matrix(cnf_matrix, classes=categories, normalize=True,\n",
    "                      title='Normalized confusion matrix')\n",
    "\n",
    "plt.show()\n",
    "\n",
    "accuracy =metrics.accuracy_score(best_pred, y_test)\n",
    "print(\"RF, Count Vectors: \", accuracy)"
   ]
  },
  {
   "cell_type": "code",
   "execution_count": 61,
   "metadata": {
    "colab": {
     "base_uri": "https://localhost:8080/",
     "height": 323
    },
    "colab_type": "code",
    "id": "qMxmesMJy9r_",
    "outputId": "d3647f3f-d581-4866-aa58-9c8192a0f504"
   },
   "outputs": [
    {
     "name": "stdout",
     "output_type": "stream",
     "text": [
      "              precision    recall  f1-score   support\n",
      "\n",
      "           0       0.94      0.91      0.93      3696\n",
      "           1       0.81      0.51      0.63      2053\n",
      "           2       0.91      0.90      0.91     19704\n",
      "           3       0.85      0.94      0.89     27926\n",
      "           4       0.38      0.42      0.40      6559\n",
      "           5       0.32      0.25      0.28      6520\n",
      "           6       0.92      0.86      0.89      5302\n",
      "           7       0.95      0.88      0.92     15761\n",
      "           8       0.80      0.84      0.82     13511\n",
      "           9       0.91      0.89      0.90     16704\n",
      "\n",
      "   micro avg       0.83      0.83      0.83    117736\n",
      "   macro avg       0.78      0.74      0.76    117736\n",
      "weighted avg       0.83      0.83      0.83    117736\n",
      "\n"
     ]
    }
   ],
   "source": [
    "print(classification_report(y_test, best_pred))"
   ]
  },
  {
   "cell_type": "markdown",
   "metadata": {},
   "source": [
    "L'accuracy complessiva del modello e' di 83%. \n",
    "\n",
    "7 su 10 classi riportano valori di precision e recall maggiori all'80%.\n",
    "\n",
    "Si nota che le classi muisc e instruments sono spesso confuse, probabilmente dovuto alla somiglianza dei termini usati nelle due classi. \n",
    "\n",
    "Inoltre la classe auto non riporta buone performance, probabilmente dovuto al fatto che si tratta di una classe sottorappresentata nel dataset. In particolare essa riporta una recall bassa, ovvero solo la meta' delle recensioni appartenenti alla categoria sono state correttamente assegnate, mentre l'altra meta' e' stata assegnata ad altre classi, in particolare home.  Questo potrebbe essere stato generato da class imbalance."
   ]
  }
 ],
 "metadata": {
  "accelerator": "GPU",
  "colab": {
   "collapsed_sections": [],
   "name": "progetto text mining.ipynb",
   "provenance": [],
   "version": "0.3.2"
  },
  "kernelspec": {
   "display_name": "Python 3",
   "language": "python",
   "name": "python3"
  },
  "language_info": {
   "codemirror_mode": {
    "name": "ipython",
    "version": 3
   },
   "file_extension": ".py",
   "mimetype": "text/x-python",
   "name": "python",
   "nbconvert_exporter": "python",
   "pygments_lexer": "ipython3",
   "version": "3.7.2"
  }
 },
 "nbformat": 4,
 "nbformat_minor": 1
}
